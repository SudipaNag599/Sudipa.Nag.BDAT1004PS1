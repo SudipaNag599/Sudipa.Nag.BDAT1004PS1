{ 
 "cells": [
  {
   "cell_type": "markdown",
   "metadata": {},
   "source": [
    "# Question 1"
   ]
  },
  {
   "cell_type": "code",
   "execution_count": 1,
   "metadata": {},
   "outputs": [
    {
     "data": {
      "text/plain": [
       "6"
      ]
     },
     "execution_count": 1,
     "metadata": {},
     "output_type": "execute_result"
    }
   ],
   "source": [
    "a = 0\n",
    "def b():\n",
    " global a\n",
    " a = c(a)\n",
    "def c(a):\n",
    " return a + 2\n",
    "b()\n",
    "b()\n",
    "b()\n",
    "a"
   ]
  },
  {
   "cell_type": "markdown",
   "metadata": {},
   "source": [
    "Since a is a global variable inside a function b, so whenever in the function calls a function c the value of a is changed, therefore, a being a global variable will use the recently changed value of a. In the fist line when it called function b, we will get a value chnaged to 0+2= 2, 2nd time when we call b now a value will be 2+2=4, and 3rd time a value will be changed to 4+2=6. "
   ]
  },
  {
   "cell_type": "markdown",
   "metadata": {},
   "source": [
    "# Question 2"
   ]
  },
  {
   "cell_type": "code",
   "execution_count": 3,
   "metadata": {},
   "outputs": [
    {
     "name": "stdout",
     "output_type": "stream",
     "text": [
      "698\n"
     ]
    }
   ],
   "source": [
    "import os\n",
    "def fileLength(fname):\n",
    "    if(os.path.isfile(fname)):\n",
    "        statinfo = os.stat(fname)\n",
    "        print(statinfo.st_size)\n",
    "    else:\n",
    "        print(\"File\",fname,\"not found.\")\n",
    "fileLength(\"hello world.ipynb\")"
   ]
  },
  {
   "cell_type": "code",
   "execution_count": 82,
   "metadata": {
    "scrolled": true
   },
   "outputs": [
    {
     "ename": "NameError",
     "evalue": "name 'fileLength' is not defined",
     "output_type": "error",
     "traceback": [
      "\u001b[1;31m---------------------------------------------------------------------------\u001b[0m",
      "\u001b[1;31mNameError\u001b[0m                                 Traceback (most recent call last)",
      "\u001b[1;32m<ipython-input-82-f7cbbf07586d>\u001b[0m in \u001b[0;36m<module>\u001b[1;34m\u001b[0m\n\u001b[1;32m----> 1\u001b[1;33m \u001b[0mfileLength\u001b[0m\u001b[1;33m(\u001b[0m\u001b[1;34m\"hw.py\"\u001b[0m\u001b[1;33m)\u001b[0m\u001b[1;33m\u001b[0m\u001b[1;33m\u001b[0m\u001b[0m\n\u001b[0m",
      "\u001b[1;31mNameError\u001b[0m: name 'fileLength' is not defined"
     ]
    }
   ],
   "source": [
    "fileLength(\"hw.py\")"
   ]
  },
  {
   "cell_type": "markdown",
   "metadata": {},
   "source": [
    "# Question 3"
   ]
  },
  {
   "cell_type": "code",
   "execution_count": 10,
   "metadata": {},
   "outputs": [
    {
     "name": "stdout",
     "output_type": "stream",
     "text": [
      "['doll', 'firetruck', 'kitten']\n"
     ]
    }
   ],
   "source": [
    "class Marsupial:\n",
    "    def __init__(self):\n",
    "        self.pc=[]\n",
    "    def put_in_pouch(self,name):\n",
    "        self.pc.append(name)\n",
    "    def pouch_contents(self):\n",
    "        print(self.pc)\n",
    "m=Marsupial()\n",
    "m.put_in_pouch('doll')\n",
    "m.put_in_pouch('firetruck')\n",
    "m.put_in_pouch('kitten')\n",
    "m.pouch_contents()"
   ]
  },
  {
   "cell_type": "code",
   "execution_count": 14,
   "metadata": {},
   "outputs": [
    {
     "name": "stdout",
     "output_type": "stream",
     "text": [
      "I am a kangaroo located at coordinates (0,0)\n",
      "['doll', 'firetruck', 'kitten']\n",
      "I am a kangaroo located at coordinates (3,0)\n"
     ]
    }
   ],
   "source": [
    "class kangaroo(Marsupial):\n",
    "    def __init__(self,x,y):\n",
    "        self.x=x\n",
    "        self.y=y\n",
    "        self.pc=[]\n",
    "    def __str__(self):\n",
    "        return \"I am a kangaroo located at coordinates (\"+str(self.x)+\",\"+str(self.y)+\")\"\n",
    "    def jump(self,dx,dy):\n",
    "        self.x+=dx\n",
    "        self.y+=dy\n",
    "        return \"I am a kangaroo located at coordinates (\"+str(self.x)+\",\"+str(self.y)+\")\"\n",
    "k=kangaroo(0,0)\n",
    "print(k)\n",
    "k.put_in_pouch('doll')\n",
    "k.put_in_pouch('firetruck')\n",
    "k.put_in_pouch('kitten')\n",
    "k.pouch_contents()\n",
    "k.jump(1,0)\n",
    "k.jump(1,0)\n",
    "k.jump(1,0)\n",
    "print(k)"
   ]
  },
  {
   "cell_type": "markdown",
   "metadata": {},
   "source": [
    "# Question 4"
   ]
  },
  {
   "cell_type": "code",
   "execution_count": 42,
   "metadata": {},
   "outputs": [],
   "source": [
    "from tkinter import *\n",
    "\n",
    "class calc:\n",
    "    def calc_display(self):\n",
    "        E5 = Entry(master, state='readonly',background=\"Yellow\").grid(row=0, column=5, columnspan=6)\n",
    "        #self.screen=Text(master,state='disabled',width=30,height=2,background=\"yellow\",foreground=\"blue\")\n",
    "        #self.screen.grid(row=0,column=5)\n",
    "        Button(master, text=\"MC\", width=3).grid(row=1, column=5)\n",
    "        Button(master, text=\"M+\", width=3).grid(row=1, column=6)\n",
    "        Button(master, text=\"M-\", width=3).grid(row=1, column=7)\n",
    "        Button(master, text=\"MR\", width=3).grid(row=1, column=8)\n",
    "\n",
    "        Button(master, text=\"C\", width=3).grid(row=2, column=5)\n",
    "        Button(master, text=\"√\", width=3).grid(row=2, column=6)\n",
    "        Button(master, text=\"x²\", width=3).grid(row=2, column=7)\n",
    "        Button(master, text=\"+\", width=3).grid(row=2, column=8)\n",
    "\n",
    "        Button(master, text=\"7\", width=3).grid(row=3, column=5)\n",
    "        Button(master, text=\"8\", width=3).grid(row=3, column=6)\n",
    "        Button(master, text=\"9\", width=3).grid(row=3, column=7)\n",
    "        Button(master, text=\"-\", width=3).grid(row=3, column=8)\n",
    "\n",
    "        Button(master, text=\"4\", width=3).grid(row=4, column=5)\n",
    "        Button(master, text=\"5\", width=3).grid(row=4, column=6)\n",
    "        Button(master, text=\"6\", width=3).grid(row=4, column=7)\n",
    "        Button(master, text=\"*\", width=3).grid(row=4, column=8)\n",
    "\n",
    "        Button(master, text=\"1\", width=3).grid(row=5, column=5)\n",
    "        Button(master, text=\"2\", width=3).grid(row=5, column=6)\n",
    "        Button(master, text=\"3\", width=3).grid(row=5, column=7)\n",
    "        Button(master, text=\"/\", width=3).grid(row=5, column=8)\n",
    "\n",
    "        Button(master, text=\"0\", width=3).grid(row=6, column=5)\n",
    "        Button(master, text=\".\", width=3).grid(row=6, column=6)\n",
    "        Button(master, text=\"+-\", width=3).grid(row=6, column=7)\n",
    "        Button(master, text=\"=\", width=3).grid(row=6, column=8)\n",
    "\n",
    "class Mortgage:\n",
    "    def mortgage_display(self):\n",
    "        Label(master, text=\"Loan Amount:\", font=\"Arial 8 italic\").grid(row=1, column=1)\n",
    "        E1 = Entry(master)\n",
    "        E1.grid(row=1, column=2)\n",
    "        Label(master, text=\"Interest Rate:\", font=\"Arial 8 italic\").grid(row=2, column=1)\n",
    "        E2 = Entry(master)\n",
    "        E2.grid(row=2, column=2)\n",
    "        Label(master, text=\"Loan terms:\", font=\"Arial 8 italic\").grid(row=3, column=1)\n",
    "        E3 = Entry(master)\n",
    "        E3.grid(row=3, column=2)\n",
    "        #Label(master, text=\"Compute mortgage:\", font=\"Arial 8 italic\").grid(row=4, column=1)\n",
    "        E4 = Entry(master)\n",
    "        E4.grid(row=4, column=2)\n",
    "        Button(master, text=\"Compute mortgage:\", width=20, command=lambda: calculate(E4)).grid(row=4,column=1)\n",
    "        def calculate(E4):\n",
    "            a=float(E1.get())\n",
    "            r=float(E2.get())\n",
    "            t=float(E3.get())\n",
    "            E4.delete(0,'end')\n",
    "            E4.insert(0,float(a*r/t))\n",
    "       \n",
    "master = Tk()\n",
    "calculator = calc()\n",
    "mortgage = Mortgage()\n",
    "\n",
    "mortgage.mortgage_display()\n",
    "calculator.calc_display()\n",
    "\n",
    "master.mainloop()"
   ]
  },
  {
   "cell_type": "markdown",
   "metadata": {},
   "source": [
    "# Question 5"
   ]
  },
  {
   "cell_type": "code",
   "execution_count": 21,
   "metadata": {
    "scrolled": true
   },
   "outputs": [
    {
     "name": "stdout",
     "output_type": "stream",
     "text": [
      "Please input an integer to Collatz:\n",
      "10\n",
      "10\n",
      "5\n",
      "16\n",
      "8\n",
      "4\n",
      "2\n",
      "1\n"
     ]
    }
   ],
   "source": [
    "def collatz(b):\n",
    "    if b == 1:\n",
    "        return [b]\n",
    "    elif b%2==0:\n",
    "        return [b] + collatz(b//2)\n",
    "    else:\n",
    "        return [b] + collatz(b*3+1)\n",
    "\n",
    "try:\n",
    "    print ('Please input an integer to Collatz:')\n",
    "    c=collatz(int(input()))\n",
    "    for i in c:\n",
    "        print(i)\n",
    "except ValueError:\n",
    "    print('Please enter a valid integer')"
   ]
  },
  {
   "cell_type": "markdown",
   "metadata": {},
   "source": [
    "# Question 6"
   ]
  },
  {
   "cell_type": "code",
   "execution_count": 22,
   "metadata": {
    "scrolled": true
   },
   "outputs": [
    {
     "name": "stdout",
     "output_type": "stream",
     "text": [
      "10\n",
      "1010"
     ]
    }
   ],
   "source": [
    "def binary(n):\n",
    "   if n > 1:\n",
    "       binary(n//2)\n",
    "   print(n % 2,end = '')\n",
    "# decimal number\n",
    "dec =int(input())\n",
    "binary(dec)"
   ]
  },
  {
   "cell_type": "markdown",
   "metadata": {},
   "source": [
    "# Question 7"
   ]
  },
  {
   "cell_type": "code",
   "execution_count": 1,
   "metadata": {},
   "outputs": [
    {
     "name": "stdout",
     "output_type": "stream",
     "text": [
      "W3C Mission\n",
      " Principles\n"
     ]
    }
   ],
   "source": [
    "from html.parser import HTMLParser\n",
    "class HeadingParser(HTMLParser):\n",
    "    inHeading1 = False\n",
    "    inHeading2 = False\n",
    "    inHeading3 = False\n",
    "    inHeading4 = False\n",
    "    inHeading5 = False\n",
    "    inHeading6 = False\n",
    "    def handle_starttag(self, tag, attrs):\n",
    "        if tag == \"h1\":\n",
    "            self.inHeading1 = True\n",
    "        if tag == \"h2\":\n",
    "            self.inHeading2 = True\n",
    "        if tag == \"h3\":\n",
    "            self.inHeading3 = True\n",
    "        if tag == \"h4\":\n",
    "            self.inHeading1 = True\n",
    "        if tag == \"h5\":\n",
    "            self.inHeading2 = True\n",
    "        if tag == \"h6\":\n",
    "            self.inHeading3 = True\n",
    "    def handle_data(self, data):\n",
    "        if self.inHeading1:\n",
    "            print(data)\n",
    "        if self.inHeading2:\n",
    "            print(\"\",data)\n",
    "        if self.inHeading3:\n",
    "            print(\" \",data)\n",
    "        if self.inHeading4:\n",
    "            print(\"  \",data)\n",
    "        if self.inHeading5:\n",
    "            print(\"   \",data)\n",
    "        if self.inHeading6:\n",
    "            print(\"    \",data)\n",
    "    def handle_endtag(self, tag):\n",
    "        if tag ==\"h1\":\n",
    "            self.inHeading1 = False\n",
    "        if tag ==\"h2\":\n",
    "            self.inHeading2 = False\n",
    "        if tag ==\"h3\":\n",
    "            self.inHeading3 = False\n",
    "        if tag ==\"h4\":\n",
    "            self.inHeading1 = False\n",
    "        if tag ==\"h5\":\n",
    "            self.inHeading2 = False\n",
    "        if tag ==\"h6\":\n",
    "            self.inHeading3 = False\n",
    "infile=open('E://w3c.html')\n",
    "content=infile.read()\n",
    "infile.close()\n",
    "hp=HeadingParser()\n",
    "hp.feed(content)"
   ]
  },
  {
   "cell_type": "markdown",
   "metadata": {},
   "source": [
    "# Question 8"
   ]
  },
  {
   "cell_type": "code",
   "execution_count": null,
   "metadata": {},
   "outputs": [
    {
     "name": "stdout",
     "output_type": "stream",
     "text": [
      "  http://example.webscraping.com///places/default/user/register?_next=/places/default/index\n",
      "  http://example.webscraping.com///places/default/user/register?_next=/places/default/index/places/default/user/register\n",
      "  http://example.webscraping.com///places/default/user/register?_next=/places/default/index/places/default/user/register/places/default/user/register\n",
      "  http://example.webscraping.com///places/default/user/register?_next=/places/default/index/places/default/user/register/places/default/user/register/places/default/user/register\n",
      "  http://example.webscraping.com///places/default/user/register?_next=/places/default/index/places/default/user/register/places/default/user/register/places/default/user/register/places/default/user/register\n",
      "  http://example.webscraping.com///places/default/user/register?_next=/places/default/index/places/default/user/register/places/default/user/register/places/default/user/register/places/default/user/register/places/default/user/register\n",
      "  http://example.webscraping.com///places/default/user/register?_next=/places/default/index/places/default/user/register/places/default/user/register/places/default/user/register/places/default/user/register/places/default/user/register/places/default/user/register\n",
      "  http://example.webscraping.com///places/default/user/register?_next=/places/default/index/places/default/user/register/places/default/user/register/places/default/user/register/places/default/user/register/places/default/user/register/places/default/user/register/places/default/user/register\n",
      "  http://example.webscraping.com///places/default/user/register?_next=/places/default/index/places/default/user/register/places/default/user/register/places/default/user/register/places/default/user/register/places/default/user/register/places/default/user/register/places/default/user/register/places/default/user/register\n",
      "  http://example.webscraping.com///places/default/user/register?_next=/places/default/index/places/default/user/register/places/default/user/register/places/default/user/register/places/default/user/register/places/default/user/register/places/default/user/register/places/default/user/register/places/default/user/register/places/default/user/register\n",
      "  http://example.webscraping.com///places/default/user/register?_next=/places/default/index/places/default/user/register/places/default/user/register/places/default/user/register/places/default/user/register/places/default/user/register/places/default/user/register/places/default/user/register/places/default/user/register/places/default/user/register/places/default/user/register\n",
      "  http://example.webscraping.com///places/default/user/register?_next=/places/default/index/places/default/user/register/places/default/user/register/places/default/user/register/places/default/user/register/places/default/user/register/places/default/user/register/places/default/user/register/places/default/user/register/places/default/user/register/places/default/user/register/places/default/user/register\n",
      "  http://example.webscraping.com///places/default/user/register?_next=/places/default/index/places/default/user/register/places/default/user/register/places/default/user/register/places/default/user/register/places/default/user/register/places/default/user/register/places/default/user/register/places/default/user/register/places/default/user/register/places/default/user/register/places/default/user/register/places/default/user/register\n",
      "  http://example.webscraping.com///places/default/user/register?_next=/places/default/index/places/default/user/register/places/default/user/register/places/default/user/register/places/default/user/register/places/default/user/register/places/default/user/register/places/default/user/register/places/default/user/register/places/default/user/register/places/default/user/register/places/default/user/register/places/default/user/register/places/default/user/register\n",
      "  http://example.webscraping.com///places/default/user/register?_next=/places/default/index/places/default/user/register/places/default/user/register/places/default/user/register/places/default/user/register/places/default/user/register/places/default/user/register/places/default/user/register/places/default/user/register/places/default/user/register/places/default/user/register/places/default/user/register/places/default/user/register/places/default/user/register/places/default/user/register\n",
      "  http://example.webscraping.com///places/default/user/register?_next=/places/default/index/places/default/user/register/places/default/user/register/places/default/user/register/places/default/user/register/places/default/user/register/places/default/user/register/places/default/user/register/places/default/user/register/places/default/user/register/places/default/user/register/places/default/user/register/places/default/user/register/places/default/user/register/places/default/user/register/places/default/user/register\n",
      "  http://example.webscraping.com///places/default/user/register?_next=/places/default/index/places/default/user/register/places/default/user/register/places/default/user/register/places/default/user/register/places/default/user/register/places/default/user/register/places/default/user/register/places/default/user/register/places/default/user/register/places/default/user/register/places/default/user/register/places/default/user/register/places/default/user/register/places/default/user/register/places/default/user/register/places/default/user/register\n",
      "  http://example.webscraping.com///places/default/user/register?_next=/places/default/index/places/default/user/register/places/default/user/register/places/default/user/register/places/default/user/register/places/default/user/register/places/default/user/register/places/default/user/register/places/default/user/register/places/default/user/register/places/default/user/register/places/default/user/register/places/default/user/register/places/default/user/register/places/default/user/register/places/default/user/register/places/default/user/register/places/default/user/register\n",
      "  http://example.webscraping.com///places/default/user/register?_next=/places/default/index/places/default/user/register/places/default/user/register/places/default/user/register/places/default/user/register/places/default/user/register/places/default/user/register/places/default/user/register/places/default/user/register/places/default/user/register/places/default/user/register/places/default/user/register/places/default/user/register/places/default/user/register/places/default/user/register/places/default/user/register/places/default/user/register/places/default/user/register/places/default/user/register\n",
      "  http://example.webscraping.com///places/default/user/register?_next=/places/default/index/places/default/user/register/places/default/user/register/places/default/user/register/places/default/user/register/places/default/user/register/places/default/user/register/places/default/user/register/places/default/user/register/places/default/user/register/places/default/user/register/places/default/user/register/places/default/user/register/places/default/user/register/places/default/user/register/places/default/user/register/places/default/user/register/places/default/user/register/places/default/user/register/places/default/user/register\n",
      "  http://example.webscraping.com///places/default/user/register?_next=/places/default/index/places/default/user/register/places/default/user/register/places/default/user/register/places/default/user/register/places/default/user/register/places/default/user/register/places/default/user/register/places/default/user/register/places/default/user/register/places/default/user/register/places/default/user/register/places/default/user/register/places/default/user/register/places/default/user/register/places/default/user/register/places/default/user/register/places/default/user/register/places/default/user/register/places/default/user/register/places/default/user/register\n",
      "  http://example.webscraping.com///places/default/user/register?_next=/places/default/index/places/default/user/register/places/default/user/register/places/default/user/register/places/default/user/register/places/default/user/register/places/default/user/register/places/default/user/register/places/default/user/register/places/default/user/register/places/default/user/register/places/default/user/register/places/default/user/register/places/default/user/register/places/default/user/register/places/default/user/register/places/default/user/register/places/default/user/register/places/default/user/register/places/default/user/register/places/default/user/register/places/default/user/register\n"
     ]
    },
    {
     "name": "stdout",
     "output_type": "stream",
     "text": [
      "  http://example.webscraping.com///places/default/user/register?_next=/places/default/index/places/default/user/register/places/default/user/register/places/default/user/register/places/default/user/register/places/default/user/register/places/default/user/register/places/default/user/register/places/default/user/register/places/default/user/register/places/default/user/register/places/default/user/register/places/default/user/register/places/default/user/register/places/default/user/register/places/default/user/register/places/default/user/register/places/default/user/register/places/default/user/register/places/default/user/register/places/default/user/register/places/default/user/register/places/default/user/register\n",
      "  http://example.webscraping.com///places/default/user/register?_next=/places/default/index/places/default/user/register/places/default/user/register/places/default/user/register/places/default/user/register/places/default/user/register/places/default/user/register/places/default/user/register/places/default/user/register/places/default/user/register/places/default/user/register/places/default/user/register/places/default/user/register/places/default/user/register/places/default/user/register/places/default/user/register/places/default/user/register/places/default/user/register/places/default/user/register/places/default/user/register/places/default/user/register/places/default/user/register/places/default/user/register/places/default/user/register\n",
      "  http://example.webscraping.com///places/default/user/register?_next=/places/default/index/places/default/user/register/places/default/user/register/places/default/user/register/places/default/user/register/places/default/user/register/places/default/user/register/places/default/user/register/places/default/user/register/places/default/user/register/places/default/user/register/places/default/user/register/places/default/user/register/places/default/user/register/places/default/user/register/places/default/user/register/places/default/user/register/places/default/user/register/places/default/user/register/places/default/user/register/places/default/user/register/places/default/user/register/places/default/user/register/places/default/user/register/places/default/user/register\n",
      "  http://example.webscraping.com///places/default/user/register?_next=/places/default/index/places/default/user/register/places/default/user/register/places/default/user/register/places/default/user/register/places/default/user/register/places/default/user/register/places/default/user/register/places/default/user/register/places/default/user/register/places/default/user/register/places/default/user/register/places/default/user/register/places/default/user/register/places/default/user/register/places/default/user/register/places/default/user/register/places/default/user/register/places/default/user/register/places/default/user/register/places/default/user/register/places/default/user/register/places/default/user/register/places/default/user/register/places/default/user/register/places/default/user/register\n",
      "  http://example.webscraping.com///places/default/user/register?_next=/places/default/index/places/default/user/register/places/default/user/register/places/default/user/register/places/default/user/register/places/default/user/register/places/default/user/register/places/default/user/register/places/default/user/register/places/default/user/register/places/default/user/register/places/default/user/register/places/default/user/register/places/default/user/register/places/default/user/register/places/default/user/register/places/default/user/register/places/default/user/register/places/default/user/register/places/default/user/register/places/default/user/register/places/default/user/register/places/default/user/register/places/default/user/register/places/default/user/register/places/default/user/register/places/default/user/register\n",
      "  http://example.webscraping.com///places/default/user/register?_next=/places/default/index/places/default/user/register/places/default/user/register/places/default/user/register/places/default/user/register/places/default/user/register/places/default/user/register/places/default/user/register/places/default/user/register/places/default/user/register/places/default/user/register/places/default/user/register/places/default/user/register/places/default/user/register/places/default/user/register/places/default/user/register/places/default/user/register/places/default/user/register/places/default/user/register/places/default/user/register/places/default/user/register/places/default/user/register/places/default/user/register/places/default/user/register/places/default/user/register/places/default/user/register/places/default/user/register/places/default/user/register\n",
      "  http://example.webscraping.com///places/default/user/register?_next=/places/default/index/places/default/user/register/places/default/user/register/places/default/user/register/places/default/user/register/places/default/user/register/places/default/user/register/places/default/user/register/places/default/user/register/places/default/user/register/places/default/user/register/places/default/user/register/places/default/user/register/places/default/user/register/places/default/user/register/places/default/user/register/places/default/user/register/places/default/user/register/places/default/user/register/places/default/user/register/places/default/user/register/places/default/user/register/places/default/user/register/places/default/user/register/places/default/user/register/places/default/user/register/places/default/user/register/places/default/user/register/places/default/user/register\n",
      "  http://example.webscraping.com///places/default/user/register?_next=/places/default/index/places/default/user/register/places/default/user/register/places/default/user/register/places/default/user/register/places/default/user/register/places/default/user/register/places/default/user/register/places/default/user/register/places/default/user/register/places/default/user/register/places/default/user/register/places/default/user/register/places/default/user/register/places/default/user/register/places/default/user/register/places/default/user/register/places/default/user/register/places/default/user/register/places/default/user/register/places/default/user/register/places/default/user/register/places/default/user/register/places/default/user/register/places/default/user/register/places/default/user/register/places/default/user/register/places/default/user/register/places/default/user/register/places/default/user/register\n",
      "  http://example.webscraping.com///places/default/user/register?_next=/places/default/index/places/default/user/register/places/default/user/register/places/default/user/register/places/default/user/register/places/default/user/register/places/default/user/register/places/default/user/register/places/default/user/register/places/default/user/register/places/default/user/register/places/default/user/register/places/default/user/register/places/default/user/register/places/default/user/register/places/default/user/register/places/default/user/register/places/default/user/register/places/default/user/register/places/default/user/register/places/default/user/register/places/default/user/register/places/default/user/register/places/default/user/register/places/default/user/register/places/default/user/register/places/default/user/register/places/default/user/register/places/default/user/register/places/default/user/register/places/default/user/register\n",
      "  http://example.webscraping.com///places/default/user/register?_next=/places/default/index/places/default/user/register/places/default/user/register/places/default/user/register/places/default/user/register/places/default/user/register/places/default/user/register/places/default/user/register/places/default/user/register/places/default/user/register/places/default/user/register/places/default/user/register/places/default/user/register/places/default/user/register/places/default/user/register/places/default/user/register/places/default/user/register/places/default/user/register/places/default/user/register/places/default/user/register/places/default/user/register/places/default/user/register/places/default/user/register/places/default/user/register/places/default/user/register/places/default/user/register/places/default/user/register/places/default/user/register/places/default/user/register/places/default/user/register/places/default/user/register/places/default/user/register\n"
     ]
    },
    {
     "name": "stdout",
     "output_type": "stream",
     "text": [
      "  http://example.webscraping.com///places/default/user/register?_next=/places/default/index/places/default/user/register/places/default/user/register/places/default/user/register/places/default/user/register/places/default/user/register/places/default/user/register/places/default/user/register/places/default/user/register/places/default/user/register/places/default/user/register/places/default/user/register/places/default/user/register/places/default/user/register/places/default/user/register/places/default/user/register/places/default/user/register/places/default/user/register/places/default/user/register/places/default/user/register/places/default/user/register/places/default/user/register/places/default/user/register/places/default/user/register/places/default/user/register/places/default/user/register/places/default/user/register/places/default/user/register/places/default/user/register/places/default/user/register/places/default/user/register/places/default/user/register/places/default/user/register\n",
      "  http://example.webscraping.com///places/default/user/register?_next=/places/default/index/places/default/user/register/places/default/user/register/places/default/user/register/places/default/user/register/places/default/user/register/places/default/user/register/places/default/user/register/places/default/user/register/places/default/user/register/places/default/user/register/places/default/user/register/places/default/user/register/places/default/user/register/places/default/user/register/places/default/user/register/places/default/user/register/places/default/user/register/places/default/user/register/places/default/user/register/places/default/user/register/places/default/user/register/places/default/user/register/places/default/user/register/places/default/user/register/places/default/user/register/places/default/user/register/places/default/user/register/places/default/user/register/places/default/user/register/places/default/user/register/places/default/user/register/places/default/user/register/places/default/user/register\n",
      "  http://example.webscraping.com///places/default/user/register?_next=/places/default/index/places/default/user/register/places/default/user/register/places/default/user/register/places/default/user/register/places/default/user/register/places/default/user/register/places/default/user/register/places/default/user/register/places/default/user/register/places/default/user/register/places/default/user/register/places/default/user/register/places/default/user/register/places/default/user/register/places/default/user/register/places/default/user/register/places/default/user/register/places/default/user/register/places/default/user/register/places/default/user/register/places/default/user/register/places/default/user/register/places/default/user/register/places/default/user/register/places/default/user/register/places/default/user/register/places/default/user/register/places/default/user/register/places/default/user/register/places/default/user/register/places/default/user/register/places/default/user/register/places/default/user/register/places/default/user/register\n",
      "  http://example.webscraping.com///places/default/user/register?_next=/places/default/index/places/default/user/register/places/default/user/register/places/default/user/register/places/default/user/register/places/default/user/register/places/default/user/register/places/default/user/register/places/default/user/register/places/default/user/register/places/default/user/register/places/default/user/register/places/default/user/register/places/default/user/register/places/default/user/register/places/default/user/register/places/default/user/register/places/default/user/register/places/default/user/register/places/default/user/register/places/default/user/register/places/default/user/register/places/default/user/register/places/default/user/register/places/default/user/register/places/default/user/register/places/default/user/register/places/default/user/register/places/default/user/register/places/default/user/register/places/default/user/register/places/default/user/register/places/default/user/register/places/default/user/register/places/default/user/register/places/default/user/register\n",
      "  http://example.webscraping.com///places/default/user/register?_next=/places/default/index/places/default/user/register/places/default/user/register/places/default/user/register/places/default/user/register/places/default/user/register/places/default/user/register/places/default/user/register/places/default/user/register/places/default/user/register/places/default/user/register/places/default/user/register/places/default/user/register/places/default/user/register/places/default/user/register/places/default/user/register/places/default/user/register/places/default/user/register/places/default/user/register/places/default/user/register/places/default/user/register/places/default/user/register/places/default/user/register/places/default/user/register/places/default/user/register/places/default/user/register/places/default/user/register/places/default/user/register/places/default/user/register/places/default/user/register/places/default/user/register/places/default/user/register/places/default/user/register/places/default/user/register/places/default/user/register/places/default/user/register/places/default/user/register\n",
      "  http://example.webscraping.com///places/default/user/register?_next=/places/default/index/places/default/user/register/places/default/user/register/places/default/user/register/places/default/user/register/places/default/user/register/places/default/user/register/places/default/user/register/places/default/user/register/places/default/user/register/places/default/user/register/places/default/user/register/places/default/user/register/places/default/user/register/places/default/user/register/places/default/user/register/places/default/user/register/places/default/user/register/places/default/user/register/places/default/user/register/places/default/user/register/places/default/user/register/places/default/user/register/places/default/user/register/places/default/user/register/places/default/user/register/places/default/user/register/places/default/user/register/places/default/user/register/places/default/user/register/places/default/user/register/places/default/user/register/places/default/user/register/places/default/user/register/places/default/user/register/places/default/user/register/places/default/user/register/places/default/user/register\n",
      "   http://example.webscraping.com///places/default/user/register?_next=/places/default/index/places/default/user/register/places/default/user/register/places/default/user/register/places/default/user/register/places/default/user/register/places/default/user/register/places/default/user/register/places/default/user/register/places/default/user/register/places/default/user/register/places/default/user/register/places/default/user/register/places/default/user/register/places/default/user/register/places/default/user/register/places/default/user/register/places/default/user/register/places/default/user/register/places/default/user/register/places/default/user/register/places/default/user/register/places/default/user/register/places/default/user/register/places/default/user/register/places/default/user/register/places/default/user/register/places/default/user/register/places/default/user/register/places/default/user/register/places/default/user/register/places/default/user/register/places/default/user/register/places/default/user/register/places/default/user/register/places/default/user/register/places/default/user/register/places/default/user/register/places/default/user/login\n",
      "    http://example.webscraping.com///places/default/user/register?_next=/places/default/index/places/default/user/register/places/default/user/register/places/default/user/register/places/default/user/register/places/default/user/register/places/default/user/register/places/default/user/register/places/default/user/register/places/default/user/register/places/default/user/register/places/default/user/register/places/default/user/register/places/default/user/register/places/default/user/register/places/default/user/register/places/default/user/register/places/default/user/register/places/default/user/register/places/default/user/register/places/default/user/register/places/default/user/register/places/default/user/register/places/default/user/register/places/default/user/register/places/default/user/register/places/default/user/register/places/default/user/register/places/default/user/register/places/default/user/register/places/default/user/register/places/default/user/register/places/default/user/register/places/default/user/register/places/default/user/register/places/default/user/register/places/default/user/register/places/default/user/register/places/default/user/login/places/default/index\n",
      "     http://example.webscraping.com///places/default/user/register?_next=/places/default/index/places/default/user/register/places/default/user/register/places/default/user/register/places/default/user/register/places/default/user/register/places/default/user/register/places/default/user/register/places/default/user/register/places/default/user/register/places/default/user/register/places/default/user/register/places/default/user/register/places/default/user/register/places/default/user/register/places/default/user/register/places/default/user/register/places/default/user/register/places/default/user/register/places/default/user/register/places/default/user/register/places/default/user/register/places/default/user/register/places/default/user/register/places/default/user/register/places/default/user/register/places/default/user/register/places/default/user/register/places/default/user/register/places/default/user/register/places/default/user/register/places/default/user/register/places/default/user/register/places/default/user/register/places/default/user/register/places/default/user/register/places/default/user/register/places/default/user/register/places/default/user/login/places/default/index/places/default/search\n"
     ]
    },
    {
     "name": "stdout",
     "output_type": "stream",
     "text": [
      "   http://example.webscraping.com///places/default/user/register?_next=/places/default/index/places/default/user/register/places/default/user/register/places/default/user/register/places/default/user/register/places/default/user/register/places/default/user/register/places/default/user/register/places/default/user/register/places/default/user/register/places/default/user/register/places/default/user/register/places/default/user/register/places/default/user/register/places/default/user/register/places/default/user/register/places/default/user/register/places/default/user/register/places/default/user/register/places/default/user/register/places/default/user/register/places/default/user/register/places/default/user/register/places/default/user/register/places/default/user/register/places/default/user/register/places/default/user/register/places/default/user/register/places/default/user/register/places/default/user/register/places/default/user/register/places/default/user/register/places/default/user/register/places/default/user/register/places/default/user/register/places/default/user/register/places/default/user/register/places/default/user/login\n",
      "    http://example.webscraping.com///places/default/user/register?_next=/places/default/index/places/default/user/register/places/default/user/register/places/default/user/register/places/default/user/register/places/default/user/register/places/default/user/register/places/default/user/register/places/default/user/register/places/default/user/register/places/default/user/register/places/default/user/register/places/default/user/register/places/default/user/register/places/default/user/register/places/default/user/register/places/default/user/register/places/default/user/register/places/default/user/register/places/default/user/register/places/default/user/register/places/default/user/register/places/default/user/register/places/default/user/register/places/default/user/register/places/default/user/register/places/default/user/register/places/default/user/register/places/default/user/register/places/default/user/register/places/default/user/register/places/default/user/register/places/default/user/register/places/default/user/register/places/default/user/register/places/default/user/register/places/default/user/register/places/default/user/login/places/default/index\n",
      "     http://example.webscraping.com///places/default/user/register?_next=/places/default/index/places/default/user/register/places/default/user/register/places/default/user/register/places/default/user/register/places/default/user/register/places/default/user/register/places/default/user/register/places/default/user/register/places/default/user/register/places/default/user/register/places/default/user/register/places/default/user/register/places/default/user/register/places/default/user/register/places/default/user/register/places/default/user/register/places/default/user/register/places/default/user/register/places/default/user/register/places/default/user/register/places/default/user/register/places/default/user/register/places/default/user/register/places/default/user/register/places/default/user/register/places/default/user/register/places/default/user/register/places/default/user/register/places/default/user/register/places/default/user/register/places/default/user/register/places/default/user/register/places/default/user/register/places/default/user/register/places/default/user/register/places/default/user/register/places/default/user/login/places/default/index/places/default/search\n",
      "   http://example.webscraping.com///places/default/user/register?_next=/places/default/index/places/default/user/register/places/default/user/register/places/default/user/register/places/default/user/register/places/default/user/register/places/default/user/register/places/default/user/register/places/default/user/register/places/default/user/register/places/default/user/register/places/default/user/register/places/default/user/register/places/default/user/register/places/default/user/register/places/default/user/register/places/default/user/register/places/default/user/register/places/default/user/register/places/default/user/register/places/default/user/register/places/default/user/register/places/default/user/register/places/default/user/register/places/default/user/register/places/default/user/register/places/default/user/register/places/default/user/register/places/default/user/register/places/default/user/register/places/default/user/register/places/default/user/register/places/default/user/register/places/default/user/register/places/default/user/register/places/default/user/register/places/default/user/login\n",
      "  http://example.webscraping.com///places/default/user/register?_next=/places/default/index/places/default/user/register/places/default/user/register/places/default/user/register/places/default/user/register/places/default/user/register/places/default/user/register/places/default/user/register/places/default/user/register/places/default/user/register/places/default/user/register/places/default/user/register/places/default/user/register/places/default/user/register/places/default/user/register/places/default/user/register/places/default/user/register/places/default/user/register/places/default/user/register/places/default/user/register/places/default/user/register/places/default/user/register/places/default/user/register/places/default/user/register/places/default/user/register/places/default/user/register/places/default/user/register/places/default/user/register/places/default/user/register/places/default/user/register/places/default/user/register/places/default/user/register/places/default/user/register/places/default/user/register/places/default/user/register/places/default/user/register/places/default/user/login/places/default/user/register\n",
      "   http://example.webscraping.com///places/default/user/register?_next=/places/default/index/places/default/user/register/places/default/user/register/places/default/user/register/places/default/user/register/places/default/user/register/places/default/user/register/places/default/user/register/places/default/user/register/places/default/user/register/places/default/user/register/places/default/user/register/places/default/user/register/places/default/user/register/places/default/user/register/places/default/user/register/places/default/user/register/places/default/user/register/places/default/user/register/places/default/user/register/places/default/user/register/places/default/user/register/places/default/user/register/places/default/user/register/places/default/user/register/places/default/user/register/places/default/user/register/places/default/user/register/places/default/user/register/places/default/user/register/places/default/user/register/places/default/user/register/places/default/user/register/places/default/user/register/places/default/user/register/places/default/user/register/places/default/user/login/places/default/user/register/places/default/user/login\n",
      "    http://example.webscraping.com///places/default/user/register?_next=/places/default/index/places/default/user/register/places/default/user/register/places/default/user/register/places/default/user/register/places/default/user/register/places/default/user/register/places/default/user/register/places/default/user/register/places/default/user/register/places/default/user/register/places/default/user/register/places/default/user/register/places/default/user/register/places/default/user/register/places/default/user/register/places/default/user/register/places/default/user/register/places/default/user/register/places/default/user/register/places/default/user/register/places/default/user/register/places/default/user/register/places/default/user/register/places/default/user/register/places/default/user/register/places/default/user/register/places/default/user/register/places/default/user/register/places/default/user/register/places/default/user/register/places/default/user/register/places/default/user/register/places/default/user/register/places/default/user/register/places/default/user/register/places/default/user/login/places/default/user/register/places/default/user/login/places/default/index\n",
      "     http://example.webscraping.com///places/default/user/register?_next=/places/default/index/places/default/user/register/places/default/user/register/places/default/user/register/places/default/user/register/places/default/user/register/places/default/user/register/places/default/user/register/places/default/user/register/places/default/user/register/places/default/user/register/places/default/user/register/places/default/user/register/places/default/user/register/places/default/user/register/places/default/user/register/places/default/user/register/places/default/user/register/places/default/user/register/places/default/user/register/places/default/user/register/places/default/user/register/places/default/user/register/places/default/user/register/places/default/user/register/places/default/user/register/places/default/user/register/places/default/user/register/places/default/user/register/places/default/user/register/places/default/user/register/places/default/user/register/places/default/user/register/places/default/user/register/places/default/user/register/places/default/user/register/places/default/user/login/places/default/user/register/places/default/user/login/places/default/index/places/default/search\n"
     ]
    },
    {
     "name": "stdout",
     "output_type": "stream",
     "text": [
      "    http://example.webscraping.com///places/default/user/register?_next=/places/default/index/places/default/user/register/places/default/user/register/places/default/user/register/places/default/user/register/places/default/user/register/places/default/user/register/places/default/user/register/places/default/user/register/places/default/user/register/places/default/user/register/places/default/user/register/places/default/user/register/places/default/user/register/places/default/user/register/places/default/user/register/places/default/user/register/places/default/user/register/places/default/user/register/places/default/user/register/places/default/user/register/places/default/user/register/places/default/user/register/places/default/user/register/places/default/user/register/places/default/user/register/places/default/user/register/places/default/user/register/places/default/user/register/places/default/user/register/places/default/user/register/places/default/user/register/places/default/user/register/places/default/user/register/places/default/user/register/places/default/user/register/places/default/user/login/places/default/index\n",
      "     http://example.webscraping.com///places/default/user/register?_next=/places/default/index/places/default/user/register/places/default/user/register/places/default/user/register/places/default/user/register/places/default/user/register/places/default/user/register/places/default/user/register/places/default/user/register/places/default/user/register/places/default/user/register/places/default/user/register/places/default/user/register/places/default/user/register/places/default/user/register/places/default/user/register/places/default/user/register/places/default/user/register/places/default/user/register/places/default/user/register/places/default/user/register/places/default/user/register/places/default/user/register/places/default/user/register/places/default/user/register/places/default/user/register/places/default/user/register/places/default/user/register/places/default/user/register/places/default/user/register/places/default/user/register/places/default/user/register/places/default/user/register/places/default/user/register/places/default/user/register/places/default/user/register/places/default/user/login/places/default/index/places/default/search\n",
      "   http://example.webscraping.com///places/default/user/register?_next=/places/default/index/places/default/user/register/places/default/user/register/places/default/user/register/places/default/user/register/places/default/user/register/places/default/user/register/places/default/user/register/places/default/user/register/places/default/user/register/places/default/user/register/places/default/user/register/places/default/user/register/places/default/user/register/places/default/user/register/places/default/user/register/places/default/user/register/places/default/user/register/places/default/user/register/places/default/user/register/places/default/user/register/places/default/user/register/places/default/user/register/places/default/user/register/places/default/user/register/places/default/user/register/places/default/user/register/places/default/user/register/places/default/user/register/places/default/user/register/places/default/user/register/places/default/user/register/places/default/user/register/places/default/user/register/places/default/user/register/places/default/user/login\n",
      "  http://example.webscraping.com///places/default/user/register?_next=/places/default/index/places/default/user/register/places/default/user/register/places/default/user/register/places/default/user/register/places/default/user/register/places/default/user/register/places/default/user/register/places/default/user/register/places/default/user/register/places/default/user/register/places/default/user/register/places/default/user/register/places/default/user/register/places/default/user/register/places/default/user/register/places/default/user/register/places/default/user/register/places/default/user/register/places/default/user/register/places/default/user/register/places/default/user/register/places/default/user/register/places/default/user/register/places/default/user/register/places/default/user/register/places/default/user/register/places/default/user/register/places/default/user/register/places/default/user/register/places/default/user/register/places/default/user/register/places/default/user/register/places/default/user/register/places/default/user/register/places/default/user/login/places/default/user/register\n",
      "  http://example.webscraping.com///places/default/user/register?_next=/places/default/index/places/default/user/register/places/default/user/register/places/default/user/register/places/default/user/register/places/default/user/register/places/default/user/register/places/default/user/register/places/default/user/register/places/default/user/register/places/default/user/register/places/default/user/register/places/default/user/register/places/default/user/register/places/default/user/register/places/default/user/register/places/default/user/register/places/default/user/register/places/default/user/register/places/default/user/register/places/default/user/register/places/default/user/register/places/default/user/register/places/default/user/register/places/default/user/register/places/default/user/register/places/default/user/register/places/default/user/register/places/default/user/register/places/default/user/register/places/default/user/register/places/default/user/register/places/default/user/register/places/default/user/register/places/default/user/register/places/default/user/login/places/default/user/register/places/default/user/register\n",
      "   http://example.webscraping.com///places/default/user/register?_next=/places/default/index/places/default/user/register/places/default/user/register/places/default/user/register/places/default/user/register/places/default/user/register/places/default/user/register/places/default/user/register/places/default/user/register/places/default/user/register/places/default/user/register/places/default/user/register/places/default/user/register/places/default/user/register/places/default/user/register/places/default/user/register/places/default/user/register/places/default/user/register/places/default/user/register/places/default/user/register/places/default/user/register/places/default/user/register/places/default/user/register/places/default/user/register/places/default/user/register/places/default/user/register/places/default/user/register/places/default/user/register/places/default/user/register/places/default/user/register/places/default/user/register/places/default/user/register/places/default/user/register/places/default/user/register/places/default/user/register/places/default/user/login/places/default/user/register/places/default/user/register/places/default/user/login\n",
      "    http://example.webscraping.com///places/default/user/register?_next=/places/default/index/places/default/user/register/places/default/user/register/places/default/user/register/places/default/user/register/places/default/user/register/places/default/user/register/places/default/user/register/places/default/user/register/places/default/user/register/places/default/user/register/places/default/user/register/places/default/user/register/places/default/user/register/places/default/user/register/places/default/user/register/places/default/user/register/places/default/user/register/places/default/user/register/places/default/user/register/places/default/user/register/places/default/user/register/places/default/user/register/places/default/user/register/places/default/user/register/places/default/user/register/places/default/user/register/places/default/user/register/places/default/user/register/places/default/user/register/places/default/user/register/places/default/user/register/places/default/user/register/places/default/user/register/places/default/user/register/places/default/user/login/places/default/user/register/places/default/user/register/places/default/user/login/places/default/index\n",
      "     http://example.webscraping.com///places/default/user/register?_next=/places/default/index/places/default/user/register/places/default/user/register/places/default/user/register/places/default/user/register/places/default/user/register/places/default/user/register/places/default/user/register/places/default/user/register/places/default/user/register/places/default/user/register/places/default/user/register/places/default/user/register/places/default/user/register/places/default/user/register/places/default/user/register/places/default/user/register/places/default/user/register/places/default/user/register/places/default/user/register/places/default/user/register/places/default/user/register/places/default/user/register/places/default/user/register/places/default/user/register/places/default/user/register/places/default/user/register/places/default/user/register/places/default/user/register/places/default/user/register/places/default/user/register/places/default/user/register/places/default/user/register/places/default/user/register/places/default/user/register/places/default/user/login/places/default/user/register/places/default/user/register/places/default/user/login/places/default/index/places/default/search\n"
     ]
    },
    {
     "name": "stdout",
     "output_type": "stream",
     "text": [
      "   http://example.webscraping.com///places/default/user/register?_next=/places/default/index/places/default/user/register/places/default/user/register/places/default/user/register/places/default/user/register/places/default/user/register/places/default/user/register/places/default/user/register/places/default/user/register/places/default/user/register/places/default/user/register/places/default/user/register/places/default/user/register/places/default/user/register/places/default/user/register/places/default/user/register/places/default/user/register/places/default/user/register/places/default/user/register/places/default/user/register/places/default/user/register/places/default/user/register/places/default/user/register/places/default/user/register/places/default/user/register/places/default/user/register/places/default/user/register/places/default/user/register/places/default/user/register/places/default/user/register/places/default/user/register/places/default/user/register/places/default/user/register/places/default/user/register/places/default/user/register/places/default/user/login/places/default/user/register/places/default/user/login\n",
      "    http://example.webscraping.com///places/default/user/register?_next=/places/default/index/places/default/user/register/places/default/user/register/places/default/user/register/places/default/user/register/places/default/user/register/places/default/user/register/places/default/user/register/places/default/user/register/places/default/user/register/places/default/user/register/places/default/user/register/places/default/user/register/places/default/user/register/places/default/user/register/places/default/user/register/places/default/user/register/places/default/user/register/places/default/user/register/places/default/user/register/places/default/user/register/places/default/user/register/places/default/user/register/places/default/user/register/places/default/user/register/places/default/user/register/places/default/user/register/places/default/user/register/places/default/user/register/places/default/user/register/places/default/user/register/places/default/user/register/places/default/user/register/places/default/user/register/places/default/user/register/places/default/user/login/places/default/user/register/places/default/user/login/places/default/index\n",
      "     http://example.webscraping.com///places/default/user/register?_next=/places/default/index/places/default/user/register/places/default/user/register/places/default/user/register/places/default/user/register/places/default/user/register/places/default/user/register/places/default/user/register/places/default/user/register/places/default/user/register/places/default/user/register/places/default/user/register/places/default/user/register/places/default/user/register/places/default/user/register/places/default/user/register/places/default/user/register/places/default/user/register/places/default/user/register/places/default/user/register/places/default/user/register/places/default/user/register/places/default/user/register/places/default/user/register/places/default/user/register/places/default/user/register/places/default/user/register/places/default/user/register/places/default/user/register/places/default/user/register/places/default/user/register/places/default/user/register/places/default/user/register/places/default/user/register/places/default/user/register/places/default/user/login/places/default/user/register/places/default/user/login/places/default/index/places/default/search\n",
      "    http://example.webscraping.com///places/default/user/register?_next=/places/default/index/places/default/user/register/places/default/user/register/places/default/user/register/places/default/user/register/places/default/user/register/places/default/user/register/places/default/user/register/places/default/user/register/places/default/user/register/places/default/user/register/places/default/user/register/places/default/user/register/places/default/user/register/places/default/user/register/places/default/user/register/places/default/user/register/places/default/user/register/places/default/user/register/places/default/user/register/places/default/user/register/places/default/user/register/places/default/user/register/places/default/user/register/places/default/user/register/places/default/user/register/places/default/user/register/places/default/user/register/places/default/user/register/places/default/user/register/places/default/user/register/places/default/user/register/places/default/user/register/places/default/user/register/places/default/user/register/places/default/user/login/places/default/index\n",
      "  http://example.webscraping.com///places/default/user/register?_next=/places/default/index/places/default/user/register/places/default/user/register/places/default/user/register/places/default/user/register/places/default/user/register/places/default/user/register/places/default/user/register/places/default/user/register/places/default/user/register/places/default/user/register/places/default/user/register/places/default/user/register/places/default/user/register/places/default/user/register/places/default/user/register/places/default/user/register/places/default/user/register/places/default/user/register/places/default/user/register/places/default/user/register/places/default/user/register/places/default/user/register/places/default/user/register/places/default/user/register/places/default/user/register/places/default/user/register/places/default/user/register/places/default/user/register/places/default/user/register/places/default/user/register/places/default/user/register/places/default/user/register/places/default/user/register/places/default/user/register/places/default/user/login/places/default/index/places/default/user/register\n",
      "   http://example.webscraping.com///places/default/user/register?_next=/places/default/index/places/default/user/register/places/default/user/register/places/default/user/register/places/default/user/register/places/default/user/register/places/default/user/register/places/default/user/register/places/default/user/register/places/default/user/register/places/default/user/register/places/default/user/register/places/default/user/register/places/default/user/register/places/default/user/register/places/default/user/register/places/default/user/register/places/default/user/register/places/default/user/register/places/default/user/register/places/default/user/register/places/default/user/register/places/default/user/register/places/default/user/register/places/default/user/register/places/default/user/register/places/default/user/register/places/default/user/register/places/default/user/register/places/default/user/register/places/default/user/register/places/default/user/register/places/default/user/register/places/default/user/register/places/default/user/register/places/default/user/login/places/default/index/places/default/user/register/places/default/user/login\n",
      "    http://example.webscraping.com///places/default/user/register?_next=/places/default/index/places/default/user/register/places/default/user/register/places/default/user/register/places/default/user/register/places/default/user/register/places/default/user/register/places/default/user/register/places/default/user/register/places/default/user/register/places/default/user/register/places/default/user/register/places/default/user/register/places/default/user/register/places/default/user/register/places/default/user/register/places/default/user/register/places/default/user/register/places/default/user/register/places/default/user/register/places/default/user/register/places/default/user/register/places/default/user/register/places/default/user/register/places/default/user/register/places/default/user/register/places/default/user/register/places/default/user/register/places/default/user/register/places/default/user/register/places/default/user/register/places/default/user/register/places/default/user/register/places/default/user/register/places/default/user/register/places/default/user/login/places/default/index/places/default/user/register/places/default/user/login/places/default/index\n",
      "     http://example.webscraping.com///places/default/user/register?_next=/places/default/index/places/default/user/register/places/default/user/register/places/default/user/register/places/default/user/register/places/default/user/register/places/default/user/register/places/default/user/register/places/default/user/register/places/default/user/register/places/default/user/register/places/default/user/register/places/default/user/register/places/default/user/register/places/default/user/register/places/default/user/register/places/default/user/register/places/default/user/register/places/default/user/register/places/default/user/register/places/default/user/register/places/default/user/register/places/default/user/register/places/default/user/register/places/default/user/register/places/default/user/register/places/default/user/register/places/default/user/register/places/default/user/register/places/default/user/register/places/default/user/register/places/default/user/register/places/default/user/register/places/default/user/register/places/default/user/register/places/default/user/login/places/default/index/places/default/user/register/places/default/user/login/places/default/index/places/default/search\n"
     ]
    }
   ],
   "source": [
    "from bs4 import BeautifulSoup \n",
    "import requests \n",
    "   \n",
    "# lists \n",
    "urls=[] \n",
    "   \n",
    "# function created \n",
    "def webdir(site,depth,indent): \n",
    "    count=0\n",
    "    # getting the request from url \n",
    "    r = requests.get(site) \n",
    "       \n",
    "    # converting the text \n",
    "    s = BeautifulSoup(r.text,\"html.parser\") \n",
    "       \n",
    "    for i in s.find_all(\"a\"): \n",
    "        href = i.attrs['href'] \n",
    "        if href.startswith(\"/\"): \n",
    "            site = site+href \n",
    "            count=count+1\n",
    "            if site not in  urls and count<=depth:\n",
    "                indent=count\n",
    "                urls.append(site)  \n",
    "                #print(count)\n",
    "                print(indent*\" \",site) \n",
    "                # calling it self \n",
    "                webdir(site,depth,indent) #Recursive function\n",
    "webdir(\"http://example.webscraping.com//\", 5, 0)\n"
   ]
  },
  {
   "cell_type": "markdown",
   "metadata": {},
   "source": [
    "# Question 9"
   ]
  },
  {
   "cell_type": "code",
   "execution_count": null,
   "metadata": {},
   "outputs": [],
   "source": [
    "import sqlite3\n",
    "con = sqlite3.connect('web.db')\n",
    "cur = con.cursor()\n",
    "cur.execute(\"CREATE TABLE Weather_dat (City text,Country text,Season Text,Temperature float,Rainfall flaot)\")\n",
    "cur.execute(\"INSERT INTO Weather_dat VALUES ('Mumbai', 'India', 'Winter', 24.8, 5.9)\")\n",
    "cur.execute(\"INSERT INTO Weather_dat VALUES ('Mumbai', 'India', 'Spring', 28.4, 16.2)\")\n",
    "cur.execute(\"INSERT INTO Weather_dat VALUES ('Mumbai', 'India', 'Summer', 27.9, 1549.4)\")\n",
    "cur.execute(\"INSERT INTO Weather_dat VALUES ('Mumbai', 'India', 'Fall', 27.6, 346.0)\")\n",
    "cur.execute(\"INSERT INTO Weather_dat VALUES ('Londom', 'United Kingdom', 'Winter', 4.2, 207.7)\")\n",
    "cur.execute(\"INSERT INTO Weather_dat VALUES ('Londom', 'United Kingdom', 'Spring', 8.3, 169.6)\")\n",
    "cur.execute(\"INSERT INTO Weather_dat VALUES ('Londom', 'United Kingdom', 'Summer', 15.7, 157.0)\")\n",
    "cur.execute(\"INSERT INTO Weather_dat VALUES ('Londom', 'United Kingdom', 'Fall', 10.4, 218.5)\")\n",
    "cur.execute(\"INSERT INTO Weather_dat VALUES ('Cairo', 'Egypt', 'Winter', 13.6, 16.5)\")\n",
    "cur.execute(\"INSERT INTO Weather_dat VALUES ('Cairo', 'Egypt', 'Spring', 20.7, 6.5)\")\n",
    "cur.execute(\"INSERT INTO Weather_dat VALUES ('Cairo', 'Egypt', 'Summer', 27.7, 0.1)\")\n",
    "cur.execute(\"INSERT INTO Weather_dat VALUES ('Cairo', 'Egypt', 'Fall', 22.2, 4.5)\")\n",
    "con.commit()\n",
    "con.close()"
   ]
  },
  {
   "cell_type": "code",
   "execution_count": 25,
   "metadata": {},
   "outputs": [
    {
     "data": {
      "text/plain": [
       "[(24.8,),\n",
       " (28.4,),\n",
       " (27.9,),\n",
       " (27.6,),\n",
       " (4.2,),\n",
       " (8.3,),\n",
       " (15.7,),\n",
       " (10.4,),\n",
       " (13.6,),\n",
       " (20.7,),\n",
       " (27.7,),\n",
       " (22.2,)]"
      ]
     },
     "execution_count": 25,
     "metadata": {},
     "output_type": "execute_result"
    }
   ],
   "source": [
    "import sqlite3\n",
    "con = sqlite3.connect('web.db')\n",
    "cur = con.cursor()\n",
    "cur.execute('SELECT Temperature FROM Weather_dat')\n",
    "cur.fetchall()"
   ]
  },
  {
   "cell_type": "code",
   "execution_count": 26,
   "metadata": {},
   "outputs": [
    {
     "data": {
      "text/plain": [
       "[('Mumbai',), ('Londom',), ('Cairo',)]"
      ]
     },
     "execution_count": 26,
     "metadata": {},
     "output_type": "execute_result"
    }
   ],
   "source": [
    "import sqlite3\n",
    "con = sqlite3.connect('web.db')\n",
    "cur = con.cursor()\n",
    "cur.execute('SELECT DISTINCT City FROM Weather_dat')\n",
    "cur.fetchall()"
   ]
  },
  {
   "cell_type": "code",
   "execution_count": 27,
   "metadata": {},
   "outputs": [
    {
     "data": {
      "text/plain": [
       "[('Mumbai', 'India', 'Winter', 24.8, 5.9),\n",
       " ('Mumbai', 'India', 'Spring', 28.4, 16.2),\n",
       " ('Mumbai', 'India', 'Summer', 27.9, 1549.4),\n",
       " ('Mumbai', 'India', 'Fall', 27.6, 346)]"
      ]
     },
     "execution_count": 27,
     "metadata": {},
     "output_type": "execute_result"
    }
   ],
   "source": [
    "import sqlite3\n",
    "con = sqlite3.connect('web.db')\n",
    "cur = con.cursor()\n",
    "cur.execute(\"SELECT * FROM Weather_dat WHERE Country='India'\")\n",
    "cur.fetchall()"
   ]
  },
  {
   "cell_type": "code",
   "execution_count": 28,
   "metadata": {},
   "outputs": [
    {
     "data": {
      "text/plain": [
       "[('Mumbai', 'India', 'Fall', 27.6, 346),\n",
       " ('Londom', 'United Kingdom', 'Fall', 10.4, 218.5),\n",
       " ('Cairo', 'Egypt', 'Fall', 22.2, 4.5)]"
      ]
     },
     "execution_count": 28,
     "metadata": {},
     "output_type": "execute_result"
    }
   ],
   "source": [
    "import sqlite3\n",
    "con = sqlite3.connect('web.db')\n",
    "cur = con.cursor()\n",
    "cur.execute(\"SELECT * FROM Weather_dat WHERE Season='Fall'\")\n",
    "cur.fetchall()"
   ]
  },
  {
   "cell_type": "code",
   "execution_count": 29,
   "metadata": {},
   "outputs": [
    {
     "data": {
      "text/plain": [
       "[('Mumbai', 'India', 'Fall'),\n",
       " ('Londom', 'United Kingdom', 'Winter'),\n",
       " ('Londom', 'United Kingdom', 'Fall')]"
      ]
     },
     "execution_count": 29,
     "metadata": {},
     "output_type": "execute_result"
    }
   ],
   "source": [
    "import sqlite3\n",
    "con = sqlite3.connect('web.db')\n",
    "cur = con.cursor()\n",
    "cur.execute(\"SELECT City, Country, Season FROM Weather_dat WHERE Rainfall BETWEEN 200 AND 400 \")\n",
    "cur.fetchall()"
   ]
  },
  {
   "cell_type": "code",
   "execution_count": 30,
   "metadata": {},
   "outputs": [
    {
     "data": {
      "text/plain": [
       "[('Cairo', 'Egypt'), ('Mumbai', 'India')]"
      ]
     },
     "execution_count": 30,
     "metadata": {},
     "output_type": "execute_result"
    }
   ],
   "source": [
    "import sqlite3\n",
    "con = sqlite3.connect('web.db')\n",
    "cur = con.cursor()\n",
    "cur.execute(\"SELECT City, Country FROM Weather_dat WHERE Season = 'Fall' AND Temperature > 20 ORDER BY Temperature ASC\")\n",
    "cur.fetchall()"
   ]
  },
  {
   "cell_type": "code",
   "execution_count": 31,
   "metadata": {},
   "outputs": [
    {
     "data": {
      "text/plain": [
       "[(27.6,)]"
      ]
     },
     "execution_count": 31,
     "metadata": {},
     "output_type": "execute_result"
    }
   ],
   "source": [
    "import sqlite3\n",
    "con = sqlite3.connect('web.db')\n",
    "cur = con.cursor()\n",
    "cur.execute(\"SELECT SUM(Rainfall) FROM Weather_dat where City= 'Cairo'\")\n",
    "cur.fetchall()"
   ]
  },
  {
   "cell_type": "code",
   "execution_count": 33,
   "metadata": {},
   "outputs": [
    {
     "data": {
      "text/plain": [
       "[('Fall', 569.0),\n",
       " ('Spring', 192.29999999999998),\n",
       " ('Summer', 1706.5),\n",
       " ('Winter', 230.1)]"
      ]
     },
     "execution_count": 33,
     "metadata": {},
     "output_type": "execute_result"
    }
   ],
   "source": [
    "import sqlite3\n",
    "con = sqlite3.connect('web.db')\n",
    "cur = con.cursor()\n",
    "cur.execute(\"SELECT Season,SUM(Rainfall) FROM Weather_dat GROUP BY Season\")\n",
    "cur.fetchall()"
   ]
  },
  {
   "cell_type": "markdown",
   "metadata": {},
   "source": [
    "# Question 10"
   ]
  },
  {
   "cell_type": "code",
   "execution_count": 29,
   "metadata": {},
   "outputs": [
    {
     "data": {
      "text/plain": [
       "['THE', 'QUICK', 'BROWN', 'FOX', 'JUMPS', 'OVER', 'THE', 'LAZY', 'DOG']"
      ]
     },
     "execution_count": 29,
     "metadata": {},
     "output_type": "execute_result"
    }
   ],
   "source": [
    "words = ['The', 'quick', 'brown', 'fox', 'jumps', 'over', 'the', 'lazy', 'dog']\n",
    "[x.upper() for x in words]   "
   ]
  },
  {
   "cell_type": "code",
   "execution_count": 30,
   "metadata": {},
   "outputs": [
    {
     "data": {
      "text/plain": [
       "['the', 'quick', 'brown', 'fox', 'jumps', 'over', 'the', 'lazy', 'dog']"
      ]
     },
     "execution_count": 30,
     "metadata": {},
     "output_type": "execute_result"
    }
   ],
   "source": [
    "[x.lower() for x in words]"
   ]
  },
  {
   "cell_type": "code",
   "execution_count": 31,
   "metadata": {},
   "outputs": [
    {
     "data": {
      "text/plain": [
       "[3, 5, 5, 3, 5, 4, 3, 4, 3]"
      ]
     },
     "execution_count": 31,
     "metadata": {},
     "output_type": "execute_result"
    }
   ],
   "source": [
    "[len(x) for x in words]"
   ]
  },
  {
   "cell_type": "code",
   "execution_count": 32,
   "metadata": {},
   "outputs": [
    {
     "data": {
      "text/plain": [
       "[['THE', 'the', 3],\n",
       " ['QUICK', 'quick', 5],\n",
       " ['BROWN', 'brown', 5],\n",
       " ['FOX', 'fox', 3],\n",
       " ['JUMPS', 'jumps', 5],\n",
       " ['OVER', 'over', 4],\n",
       " ['THE', 'the', 3],\n",
       " ['LAZY', 'lazy', 4],\n",
       " ['DOG', 'dog', 3]]"
      ]
     },
     "execution_count": 32,
     "metadata": {},
     "output_type": "execute_result"
    }
   ],
   "source": [
    "[[x.upper(),x.lower(),len(x)] for x in words]"
   ]
  },
  {
   "cell_type": "code",
   "execution_count": 34,
   "metadata": {},
   "outputs": [
    {
     "data": {
      "text/plain": [
       "['quick', 'brown', 'jumps', 'over', 'lazy']"
      ]
     },
     "execution_count": 34,
     "metadata": {},
     "output_type": "execute_result"
    }
   ],
   "source": [
    "[x for x in words if len(x)>=4]"
   ]
  }
 ],
 "metadata": {
  "kernelspec": {
   "display_name": "Python 3",
   "language": "python",
   "name": "python3"
  },
  "language_info": {
   "codemirror_mode": {
    "name": "ipython",
    "version": 3
   },
   "file_extension": ".py",
   "mimetype": "text/x-python",
   "name": "python",
   "nbconvert_exporter": "python",
   "pygments_lexer": "ipython3",
   "version": "3.7.6"
  }
 },
 "nbformat": 4,
 "nbformat_minor": 4
}
